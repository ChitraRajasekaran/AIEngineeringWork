{
 "cells": [
  {
   "cell_type": "code",
   "execution_count": 2,
   "id": "453a23c4-6de8-4608-a22c-f9ff2e7dc3df",
   "metadata": {},
   "outputs": [],
   "source": [
    "# !pip install openai"
   ]
  },
  {
   "cell_type": "code",
   "execution_count": 5,
   "id": "8971dabc-cc65-4b97-ad47-f3098e27eded",
   "metadata": {},
   "outputs": [],
   "source": [
    "# !pip install python-dotenv"
   ]
  },
  {
   "cell_type": "code",
   "execution_count": 7,
   "id": "18a08c45-5b9f-4cec-aaec-ecf809d4b9c3",
   "metadata": {},
   "outputs": [
    {
     "name": "stdout",
     "output_type": "stream",
     "text": [
      "The dotenv extension is already loaded. To reload it, use:\n",
      "  %reload_ext dotenv\n"
     ]
    }
   ],
   "source": [
    "import os\n",
    "import openai\n",
    "from openai import OpenAI\n",
    "%load_ext dotenv\n",
    "%dotenv"
   ]
  },
  {
   "cell_type": "code",
   "execution_count": 8,
   "id": "536f35ec-9e2c-4298-8e10-af633f55a19c",
   "metadata": {},
   "outputs": [],
   "source": [
    "%reload_ext dotenv"
   ]
  },
  {
   "cell_type": "code",
   "execution_count": 9,
   "id": "b30a8f4a-4a84-42ec-924a-7fb3e4aeca85",
   "metadata": {},
   "outputs": [],
   "source": [
    "my_prompt = 'what is the difference between relational database and non relational database'"
   ]
  },
  {
   "cell_type": "code",
   "execution_count": 10,
   "id": "67435150-fb94-4c2d-bba5-4f97ae2dce62",
   "metadata": {},
   "outputs": [
    {
     "name": "stdout",
     "output_type": "stream",
     "text": [
      "ChatCompletion(id='chatcmpl-AtIeeqxj7jJgSfbHD2OrT5BJl2vRx', choices=[Choice(finish_reason='stop', index=0, logprobs=None, message=ChatCompletionMessage(content='Relational databases are structured databases that store data in tables, with each table typically representing a different entity or concept. The data in these tables is related to each other through defined relationships. Non-relational databases, on the other hand, are databases that do not use a traditional tabular structure to store data. Instead, they use various data models, such as key-value pairs, document stores, or graph databases, to store and organize data. \\n\\nSome key differences between relational and non-relational databases include:\\n\\n1. Data Structure: Relational databases store data in tables with rows and columns, while non-relational databases store data in various formats such as key-value pairs, documents, or graphs.\\n\\n2. Schema Flexibility: Relational databases have a fixed schema that defines the structure of the data, while non-relational databases have a flexible schema that allows for changes in data structure without the need to update the entire database.\\n\\n3. Scalability: Non-relational databases are typically more scalable than relational databases, as they can easily handle large amounts of data and high levels of traffic.\\n\\n4. Querying: Relational databases use SQL (Structured Query Language) to query and manipulate data, while non-relational databases use different query languages specific to the data model being used.\\n\\n5. Use Cases: Relational databases are well-suited for applications that require complex queries and transactions, while non-relational databases are better suited for applications that require high availability, scalability, and flexibility in data structure.', refusal=None, role='assistant', function_call=None, tool_calls=None))], created=1737743112, model='gpt-3.5-turbo-0125', object='chat.completion', service_tier='default', system_fingerprint=None, usage=CompletionUsage(completion_tokens=301, prompt_tokens=18, total_tokens=319, prompt_tokens_details={'cached_tokens': 0, 'audio_tokens': 0}, completion_tokens_details={'reasoning_tokens': 0, 'audio_tokens': 0, 'accepted_prediction_tokens': 0, 'rejected_prediction_tokens': 0}))\n"
     ]
    }
   ],
   "source": [
    "client = OpenAI(\n",
    "    api_key= os.environ.get(\"OPENAI_API_KEY\"),\n",
    ")\n",
    "\n",
    "response = client.chat.completions.create(\n",
    "    messages=[\n",
    "        {\n",
    "            \"role\": \"user\",\n",
    "            \"content\": my_prompt,\n",
    "        }\n",
    "    ],\n",
    "    model=\"gpt-3.5-turbo\",\n",
    ")\n",
    "print(response)\n",
    "\n",
    "#if you are executing this step then make sure to check for the openai api documentation to see if there are any changes to the way chat completeion is called"
   ]
  },
  {
   "cell_type": "code",
   "execution_count": 11,
   "id": "799fd13e-e73e-4b63-a40f-e2c359597f15",
   "metadata": {},
   "outputs": [],
   "source": [
    "from IPython.display import display, Markdown\n",
    "\n",
    "\n",
    "def get_response(messages: str, model: str = \"gpt-3.5-turbo\") -> str:\n",
    "    return client.chat.completions.create(\n",
    "    messages=messages,\n",
    "    model=model\n",
    "    )\n",
    "\n",
    "\n",
    "def system_prompt(message: str) -> dict:\n",
    "    return{'role': 'system', 'content': message}\n",
    "\n",
    "def assistant_prompt(message: str) -> dict:\n",
    "    return{'role': 'assistant', 'content': message}\n",
    "\n",
    "def user_prompt(message: str) -> dict:\n",
    "    return{'role': 'user', 'content': message}\n",
    "\n",
    "def pretty_print(message: str) -> str:\n",
    "    display(Markdown(message.choices[0].message.content))"
   ]
  },
  {
   "cell_type": "code",
   "execution_count": 12,
   "id": "68dce61b-80b2-406d-b826-4bbd7d3c31f7",
   "metadata": {},
   "outputs": [
    {
     "data": {
      "text/markdown": [
       "Relational databases are traditional databases that store data in tables with rows and columns, and use structured query language (SQL) to manipulate and retrieve data. They are designed to handle complex queries and support relationships between different data sets.\n",
       "\n",
       "Non-relational databases, on the other hand, do not use the tabular structure of traditional relational databases. They are designed to handle large volumes of unstructured or semi-structured data, such as text, images, and videos. Non-relational databases use different data models, such as key-value, document, column family, or graph, and do not require a fixed schema.\n",
       "\n",
       "Some key differences between relational and non-relational databases include:\n",
       "\n",
       "1. Data Model: Relational databases use a tabular data model, while non-relational databases use various data models like key-value, document, column family, or graph.\n",
       "\n",
       "2. Flexibility: Non-relational databases are more flexible and can handle unstructured and semi-structured data better than relational databases.\n",
       "\n",
       "3. Scalability: Non-relational databases are more scalable and can handle large volumes of data more efficiently than relational databases.\n",
       "\n",
       "4. Performance: Non-relational databases can often provide better performance for certain types of applications, such as those requiring fast read and write operations.\n",
       "\n",
       "Overall, the choice between a relational and non-relational database depends on the specific requirements of the application and the type of data being stored and accessed."
      ],
      "text/plain": [
       "<IPython.core.display.Markdown object>"
      ]
     },
     "metadata": {},
     "output_type": "display_data"
    }
   ],
   "source": [
    "my_prompt = 'what is the difference between relational database and non relational database'\n",
    "messages_list = [user_prompt(my_prompt)]\n",
    "\n",
    "response = get_response(messages_list)\n",
    "\n",
    "pretty_print(response)"
   ]
  },
  {
   "cell_type": "code",
   "execution_count": 17,
   "id": "13f76087-072c-4d7e-a91c-ff81a5e18846",
   "metadata": {},
   "outputs": [],
   "source": [
    "#System prompt role : the basic idea of the system role is to encourage the behaviour of the LLM without being directly responded to."
   ]
  },
  {
   "cell_type": "code",
   "execution_count": 16,
   "id": "ce7ccfe7-67ac-4ef5-947f-a4e5f9fcf83e",
   "metadata": {},
   "outputs": [
    {
     "data": {
      "text/markdown": [
       "Alright, listen up, junior engineer, here's the deal: a relational database is like a well-structured, organized library where everything has its place and relationships between data are defined upfront. It's like having all your books sorted by author, genre, and so on. On the other hand, a non-relational database is like a free-spirited, unstructured party where data can be stored in more flexible ways without predefined relationships. It's like throwing all your stuff in a giant pile and searching through it when you need something specific. So, in a nutshell, one's all about order and structure, while the other's more about flexibility and adaptability. Got it, genius?"
      ],
      "text/plain": [
       "<IPython.core.display.Markdown object>"
      ]
     },
     "metadata": {},
     "output_type": "display_data"
    }
   ],
   "source": [
    "my_prompt = 'what is the difference between relational database and non relational database'\n",
    "list_of_prompts = [ system_prompt('you are a junior engineer and extremely intelligent. Feel free to express yourself using PG-13 languge about databases'),\n",
    "                   user_prompt(my_prompt)]\n",
    "\n",
    "response = get_response(list_of_prompts)\n",
    "\n",
    "pretty_print(response)"
   ]
  },
  {
   "cell_type": "code",
   "execution_count": 19,
   "id": "914bdf90-0636-4ecf-9af6-36ba51226973",
   "metadata": {},
   "outputs": [],
   "source": [
    "#Few shot prompting : this is used to pretend as if we are answering our own questions to further help toward our desired behavior."
   ]
  },
  {
   "cell_type": "code",
   "execution_count": 20,
   "id": "47c1c675-e276-4dd6-b283-addbe264c122",
   "metadata": {},
   "outputs": [
    {
     "data": {
      "text/markdown": [
       "Dude, relational databases are like that strict librarian who wants everything in neat, organized tables with clear relationships between them. Non-relational databases, on the other hand, are more like that cool, laid-back artist who doesn't give a damn about structure and just stores data in flexible, dynamic ways. It's all about how you want to handle your data - structured and rigid or loosey-goosey and free-flowing. "
      ],
      "text/plain": [
       "<IPython.core.display.Markdown object>"
      ]
     },
     "metadata": {},
     "output_type": "display_data"
    }
   ],
   "source": [
    "my_prompt = 'what is the difference between relational database and non relational database'\n",
    "list_of_prompts = [ system_prompt('you are a junior engineer and extremely intelligent. Feel free to express yourself using PG-13 languge about databases'),\n",
    "                   assistant_prompt('relational databased have table structure and some example of rdbms systems are mysql,sql server etc where as non-relational databses are based on key value pair storage and no particular table structure such as mongodb')\n",
    "                   ,user_prompt(my_prompt)]\n",
    "\n",
    "response = get_response(list_of_prompts)\n",
    "\n",
    "pretty_print(response)"
   ]
  },
  {
   "cell_type": "code",
   "execution_count": 21,
   "id": "150d1b36-615c-4db4-b8eb-aa6f83532f83",
   "metadata": {},
   "outputs": [],
   "source": [
    "#test another example of few shot prompting"
   ]
  },
  {
   "cell_type": "code",
   "execution_count": 26,
   "id": "7b34166c-263c-491e-a090-95242fbaa078",
   "metadata": {},
   "outputs": [
    {
     "data": {
      "text/markdown": [
       "This response is positive."
      ],
      "text/plain": [
       "<IPython.core.display.Markdown object>"
      ]
     },
     "metadata": {},
     "output_type": "display_data"
    }
   ],
   "source": [
    "my_prompt = 'I love watching spidey and his amazing friends'\n",
    "list_of_prompts = [ system_prompt('what kind of respons is this?'),\n",
    "                   assistant_prompt('i am trying to figure out the sentiment of this message')\n",
    "                   ,user_prompt(my_prompt)]\n",
    "\n",
    "response = get_response(list_of_prompts)\n",
    "\n",
    "pretty_print(response)"
   ]
  },
  {
   "cell_type": "code",
   "execution_count": 27,
   "id": "93a7b9a1-5c5c-4eeb-8f12-c91cfbf939ea",
   "metadata": {},
   "outputs": [],
   "source": [
    "#chain of thought prompting : lets ask LLM to think step by step"
   ]
  },
  {
   "cell_type": "code",
   "execution_count": 28,
   "id": "f3f7e29f-edc1-4384-b728-0dafb627dfa5",
   "metadata": {},
   "outputs": [
    {
     "data": {
      "text/markdown": [
       "To solve this problem in linear time and O(1) space, we can used the Boyer-Moore Voting Algorithm.\n",
       "\n",
       "Here's the Python code to find the majority element using Boyer-Moore Voting Algorithm:\n",
       "\n",
       "```python\n",
       "def majorityElement(nums):\n",
       "    count = 0\n",
       "    candidate = None\n",
       "    \n",
       "    for num in nums:\n",
       "        if count == 0:\n",
       "            candidate = num\n",
       "        count += 1 if num == candidate else -1\n",
       "    \n",
       "    return candidate\n",
       "\n",
       "# Example 1\n",
       "nums1 = [3,2,3]\n",
       "print(majorityElement(nums1)) # Output: 3\n",
       "\n",
       "# Example 2\n",
       "nums2 = [2,2,1,1,1,2,2]\n",
       "print(majorityElement(nums2)) # Output: 2\n",
       "```\n",
       "\n",
       "This algorithm works by maintaining a candidate for the majority element and a count supporting it. If count reaches 0, the algorithm resets these values. The majority element will sustain its count until the end due to its property of appearing more than ⌊n / 2⌋ times."
      ],
      "text/plain": [
       "<IPython.core.display.Markdown object>"
      ]
     },
     "metadata": {},
     "output_type": "display_data"
    }
   ],
   "source": [
    "leetcode_thinking = \"\"\"Given an array nums of size n, return the majority element.\n",
    "\n",
    "The majority element is the element that appears more than ⌊n / 2⌋ times. You may assume that the majority element always exists in the array.\n",
    "\n",
    " \n",
    "\n",
    "Example 1:\n",
    "\n",
    "Input: nums = [3,2,3]\n",
    "Output: 3\n",
    "\n",
    "Example 2:\n",
    "\n",
    "Input: nums = [2,2,1,1,1,2,2]\n",
    "Output: 2\n",
    "\n",
    " \n",
    "\n",
    "Constraints:\n",
    "\n",
    "    n == nums.length\n",
    "    1 <= n <= 5 * 104\n",
    "    -109 <= nums[i] <= 109\n",
    "\n",
    " \n",
    "Follow-up: Could you solve the problem in linear time and in O(1) space?   \"\"\"\n",
    "\n",
    "list_of_prompts = [user_prompt(leetcode_thinking)]\n",
    "\n",
    "response = get_response(list_of_prompts)\n",
    "pretty_print(response)"
   ]
  },
  {
   "cell_type": "code",
   "execution_count": 30,
   "id": "b9ddf9cf-c0ff-46d0-a794-1d3afe7d8226",
   "metadata": {},
   "outputs": [
    {
     "data": {
      "text/markdown": [
       "To solve this problem in linear time and O(1) space, we can use Moore's Voting Algorithm.\n",
       "\n",
       "Here's how we can do it step by step:\n",
       "\n",
       "1. Initialize two variables, `candidate` and `count`. Set `candidate` to the first element in the array and `count` to 1.\n",
       "\n",
       "2. Iterate through the array starting from the second element. For each element:\n",
       "   - If the current element is equal to the candidate, increment the `count` by 1.\n",
       "   - If the current element is not equal to the candidate, decrement the `count` by 1.\n",
       "   - If the `count` becomes 0, update the `candidate` to the current element and set `count` back to 1.\n",
       "\n",
       "3. By the end of the iteration, the `candidate` will be the majority element.\n",
       "\n",
       "4. Verify if the `candidate` is the majority element by counting its occurrences in the array. Ensure that it appears more than n / 2 times.\n",
       "\n",
       "5. Return the `candidate` as the majority element.\n",
       "\n",
       "This algorithm works by canceling out each occurrence of the non-majority element with the majority element. At the end of the iteration, the majority element will remain as the candidate. The algorithm runs in linear time and uses only constant space."
      ],
      "text/plain": [
       "<IPython.core.display.Markdown object>"
      ]
     },
     "metadata": {},
     "output_type": "display_data"
    }
   ],
   "source": [
    "\n",
    "list_of_prompts = [user_prompt(leetcode_thinking + \"Think through your response step by step\")]\n",
    "\n",
    "response = get_response(list_of_prompts)\n",
    "pretty_print(response)"
   ]
  },
  {
   "cell_type": "code",
   "execution_count": 45,
   "id": "c4bae8b0-bad9-414e-bcc5-d2f7eeccd40a",
   "metadata": {},
   "outputs": [],
   "source": [
    "#USING EVALS : there are basically 3 types of evals - deterministic evals, LLM as a judge and human feedback."
   ]
  },
  {
   "cell_type": "code",
   "execution_count": 46,
   "id": "01a4988f-c729-45c3-8309-dc635b959eac",
   "metadata": {},
   "outputs": [],
   "source": [
    "#lets try one of these evals and try yourself rest of the things. Also read about them online."
   ]
  },
  {
   "cell_type": "code",
   "execution_count": 47,
   "id": "d714fd35-7cc8-460b-967f-23ab1792dd26",
   "metadata": {},
   "outputs": [],
   "source": [
    "#Testing the prompt using LLM as a judge"
   ]
  },
  {
   "cell_type": "code",
   "execution_count": 48,
   "id": "7bc61cef-54e9-460f-9493-224c123c9d4b",
   "metadata": {},
   "outputs": [],
   "source": [
    "system_template = \"\"\"you are a mathematician\"\"\""
   ]
  },
  {
   "cell_type": "code",
   "execution_count": 49,
   "id": "256a4262-c891-4985-a69e-c6b3936f7c37",
   "metadata": {},
   "outputs": [],
   "source": [
    "user_template = \"\"\"{input}\n",
    "clearly state the issues\n",
    "\"\"\""
   ]
  },
  {
   "cell_type": "code",
   "execution_count": 52,
   "id": "8b5a7626-397c-4dbf-be0c-45fe9994909f",
   "metadata": {},
   "outputs": [
    {
     "data": {
      "text/markdown": [
       "The P versus NP problem is one of the most famous and important unsolved problems in theoretical computer science and mathematics. It deals with the complexity of algorithms and can be stated as follows:\n",
       "\n",
       "P: The class of problems that can be solved by a deterministic algorithm in polynomial time. This means that the time taken to solve the problem is bounded by a polynomial function of the problem size.\n",
       "\n",
       "NP: The class of problems for which a solution can be verified in polynomial time. This means that if someone claims to have a solution to an NP problem, it can be checked efficiently.\n",
       "\n",
       "The P versus NP problem asks whether every problem for which a solution can be verified in polynomial time can also be solved in polynomial time, or in other words, whether P equals NP.\n",
       "\n",
       "If P equals NP, it would mean that many difficult problems that are currently thought to be computationally infeasible to solve efficiently could actually be solved quickly. On the other hand, if P does not equal NP, it would mean that there are problems for which it is much easier to verify a solution than to find a solution. This has profound implications for cryptography, optimization, and many other fields.\n",
       "\n",
       "The P versus NP problem remains an open question and is considered one of the seven Millennium Prize Problems by the Clay Mathematics Institute, with a million-dollar prize for a correct solution."
      ],
      "text/plain": [
       "<IPython.core.display.Markdown object>"
      ]
     },
     "metadata": {},
     "output_type": "display_data"
    }
   ],
   "source": [
    "query = \"P verses NP problem in mathematics\"\n",
    "\n",
    "list_of_prompts = [\n",
    "    system_prompt(system_template),\n",
    "    user_prompt(user_template.format(input=query))\n",
    "]\n",
    "\n",
    "test_response = get_response(list_of_prompts)\n",
    "\n",
    "pretty_print(test_response)\n",
    "\n",
    "evaluator_system_template = \"\"\"You are an expert in analyzing the quality of a response.\n",
    "\n",
    "You should be hyper-critical.\n",
    "\n",
    "Provide scores (out of 10) for the following attributes:\n",
    "\n",
    "1. Clarity - how clear is the response\n",
    "2. Faithfulness - how related to the original query is the response\n",
    "3. Correctness - was the response correct?\n",
    "\n",
    "Please take your time, and think through each item step-by-step, when you are done - please provide your response in the following JSON format:\n",
    "\n",
    "{\"clarity\" : \"score_out_of_10\", \"faithfulness\" : \"score_out_of_10\", \"correctness\" : \"score_out_of_10\"}\"\"\"\n",
    "\n",
    "evaluation_template = \"\"\"Query: {input}\n",
    "Response: {response}\"\"\"\n",
    "\n",
    "list_of_prompts = [\n",
    "    system_prompt(evaluator_system_template),\n",
    "    user_prompt(evaluation_template.format(\n",
    "        input=query,\n",
    "        response=test_response.choices[0].message.content\n",
    "    ))\n",
    "]\n",
    "\n",
    "evaluator_response = client.chat.completions.create(\n",
    "    model=\"gpt-4o\",\n",
    "    messages=list_of_prompts,\n",
    "    response_format={\"type\" : \"json_object\"}\n",
    ")"
   ]
  },
  {
   "cell_type": "code",
   "execution_count": 53,
   "id": "b926a157-b34e-45c0-b697-d26e185bf00d",
   "metadata": {},
   "outputs": [
    {
     "data": {
      "text/markdown": [
       "{\"clarity\" : \"9\", \"faithfulness\" : \"10\", \"correctness\" : \"10\"}"
      ],
      "text/plain": [
       "<IPython.core.display.Markdown object>"
      ]
     },
     "metadata": {},
     "output_type": "display_data"
    }
   ],
   "source": [
    "pretty_print(evaluator_response)"
   ]
  },
  {
   "cell_type": "code",
   "execution_count": null,
   "id": "3bb1b15f-b40b-405a-b2cd-67d78eec5984",
   "metadata": {},
   "outputs": [],
   "source": []
  }
 ],
 "metadata": {
  "kernelspec": {
   "display_name": "llm-gpt",
   "language": "python",
   "name": "llm"
  },
  "language_info": {
   "codemirror_mode": {
    "name": "ipython",
    "version": 3
   },
   "file_extension": ".py",
   "mimetype": "text/x-python",
   "name": "python",
   "nbconvert_exporter": "python",
   "pygments_lexer": "ipython3",
   "version": "3.9.17"
  }
 },
 "nbformat": 4,
 "nbformat_minor": 5
}
