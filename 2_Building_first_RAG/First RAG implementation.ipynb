{
 "cells": [
  {
   "cell_type": "code",
   "execution_count": 2,
   "id": "91af1555",
   "metadata": {},
   "outputs": [],
   "source": [
    "#Task 1: Imports and Utility - We're just doing some imports and enabling async to work within the Jupyter environment here, nothing too crazy!\n",
    "#!pip install -qU numpy matplotlib plotly pandas scipy scikit-learn openai python-dotenv"
   ]
  },
  {
   "cell_type": "code",
   "execution_count": 3,
   "id": "8d18c798-55f7-4f60-92fc-30837d71524c",
   "metadata": {},
   "outputs": [],
   "source": [
    "from utils.text_utils import TextFileLoader, CharacterTextSplitter"
   ]
  },
  {
   "cell_type": "code",
   "execution_count": 4,
   "id": "f99c141b-41f0-450c-8198-170e0038cc4b",
   "metadata": {},
   "outputs": [],
   "source": [
    "from utils.vectordatabase import VectorDatabase\n",
    "import asyncio"
   ]
  },
  {
   "cell_type": "code",
   "execution_count": 5,
   "id": "557c6fea",
   "metadata": {},
   "outputs": [],
   "source": [
    "import nest_asyncio\n",
    "nest_asyncio.apply()"
   ]
  },
  {
   "cell_type": "code",
   "execution_count": 6,
   "id": "3d594a2f",
   "metadata": {},
   "outputs": [],
   "source": [
    "#Task 2: Documents\n",
    "\n",
    "# Loading Source Documents\n",
    "\n",
    "# So, first things first, we need some documents to work with.\n",
    "\n",
    "# While we could work directly with the .txt files (or whatever file-types you wanted to extend this to) we can instead do some batch processing of those documents at the beginning in order to store them in a more machine compatible format.\n",
    "\n",
    "# In this case, we're going to parse our text file into a single document in memory.\n",
    "\n",
    "# Let's look at the relevant bits of the TextFileLoader class:\n",
    "\n",
    "# def load_file(self):\n",
    "#         with open(self.path, \"r\", encoding=self.encoding) as f:\n",
    "#             self.documents.append(f.read())\n",
    "\n",
    "# We're simply loading the document using the built in open method, \n",
    "#and storing that output in our self.documents list.\n"
   ]
  },
  {
   "cell_type": "code",
   "execution_count": 7,
   "id": "cbe70b3f",
   "metadata": {},
   "outputs": [
    {
     "data": {
      "text/plain": [
       "1"
      ]
     },
     "execution_count": 7,
     "metadata": {},
     "output_type": "execute_result"
    }
   ],
   "source": [
    "text_loader = TextFileLoader(\"data/kingLear.txt\")\n",
    "documents = text_loader.load_documents()\n",
    "len(documents)"
   ]
  },
  {
   "cell_type": "code",
   "execution_count": 8,
   "id": "3b7944e0",
   "metadata": {},
   "outputs": [
    {
     "name": "stdout",
     "output_type": "stream",
     "text": [
      "1606\n",
      "THE TRAGEDY OF KING LEAR\n",
      "\n",
      "by William Shakespeare\n",
      "\n",
      "\n",
      "\n",
      "\n",
      "Dramatis Personae\n",
      "\n",
      "      Lear, King of Bri\n"
     ]
    }
   ],
   "source": [
    "print(documents[0][:100])"
   ]
  },
  {
   "cell_type": "code",
   "execution_count": 9,
   "id": "e4478c0f",
   "metadata": {},
   "outputs": [],
   "source": [
    "#Splitting Text Into Chunks\n",
    "\n",
    "# As we can see, there is one massive document.\n",
    "\n",
    "# We'll want to chunk the document into smaller parts so it's easier to pass the most relevant snippets to the LLM.\n",
    "\n",
    "# There is no fixed way to split/chunk documents - and you'll need to rely on some intuition as well as knowing your data very well in order to build the most robust system.\n",
    "\n",
    "# For this toy example, we'll just split blindly on length.\n",
    "\n",
    "#     There's an opportunity to clear up some terminology here, for this course we will be stick to the following:\n",
    "\n",
    "#         \"source documents\" : The .txt, .pdf, .html, ..., files that make up the files and information we start with in its raw format\n",
    "#         \"document(s)\" : single (or more) text object(s)\n",
    "#         \"corpus\" : the combination of all of our documents\n",
    "\n"
   ]
  },
  {
   "cell_type": "code",
   "execution_count": 10,
   "id": "4026d40f",
   "metadata": {},
   "outputs": [
    {
     "data": {
      "text/plain": [
       "216"
      ]
     },
     "execution_count": 10,
     "metadata": {},
     "output_type": "execute_result"
    }
   ],
   "source": [
    "text_splitter = CharacterTextSplitter()\n",
    "split_documents = text_splitter.split_texts(documents)\n",
    "len(split_documents)"
   ]
  },
  {
   "cell_type": "code",
   "execution_count": 11,
   "id": "fc913315",
   "metadata": {},
   "outputs": [],
   "source": [
    "#Let's take a look at some of the documents we've managed to split."
   ]
  },
  {
   "cell_type": "code",
   "execution_count": 12,
   "id": "022ea219",
   "metadata": {},
   "outputs": [
    {
     "data": {
      "text/plain": [
       "[\"1606\\nTHE TRAGEDY OF KING LEAR\\n\\nby William Shakespeare\\n\\n\\n\\n\\nDramatis Personae\\n\\n      Lear, King of Britain.\\n      King of France.\\n      Duke of Burgundy.\\n      Duke of Cornwall.\\n      Duke of Albany.\\n      Earl of Kent.\\n      Earl of Gloucester.\\n      Edgar, son of Gloucester.\\n      Edmund, bastard son to Gloucester.\\n      Curan, a courtier.\\n      Old Man, tenant to Gloucester.\\n      Doctor.\\n      Lear's Fool.\\n      Oswald, steward to Goneril.\\n      A Captain under Edmund's command.\\n      Gentlemen.\\n      A Herald.\\n      Servants to Cornwall.\\n\\n      Goneril, daughter to Lear.\\n      Regan, daughter to Lear.\\n      Cordelia, daughter to Lear.\\n\\n      Knights attending on Lear, Officers, Messengers, Soldiers,\\n        Attendants.\\n\\n\\n\\n\\n<<THIS ELECTRONIC VERSION OF THE COMPLETE WORKS OF WILLIAM\\nSHAKESPEARE IS COPYRIGHT 1990-1993 BY WORLD LIBRARY, INC., AND IS\\nPROVIDED BY PROJECT GUTENBERG ETEXT OF CARNEGIE MELLON UNIVERSITY\\nWITH PERMISSION.  ELECTRONIC AND MACHINE READABLE COPIES MAY BE\\nDISTRIBUT\"]"
      ]
     },
     "execution_count": 12,
     "metadata": {},
     "output_type": "execute_result"
    }
   ],
   "source": [
    "split_documents[0:1]"
   ]
  },
  {
   "cell_type": "code",
   "execution_count": 13,
   "id": "81ceedb6",
   "metadata": {},
   "outputs": [],
   "source": [
    "\n",
    "# Task 3: Embeddings and Vectors\n",
    "\n",
    "# Next, we have to convert our corpus into a \"machine readable\" format \n",
    "\n",
    "# we're going to see the actual process of creating, and then storing, \n",
    "# these embeddings, and how we can leverage that to intelligently add context to our queries.\n",
    "# OpenAI API Key\n",
    "\n",
    "# In order to access OpenAI's APIs, we'll need to provide our OpenAI API Key!\n"
   ]
  },
  {
   "cell_type": "code",
   "execution_count": 14,
   "id": "9171d673",
   "metadata": {},
   "outputs": [],
   "source": [
    "import os\n",
    "import openai\n",
    "from openai import OpenAI\n",
    "%load_ext dotenv\n",
    "%dotenv"
   ]
  },
  {
   "cell_type": "code",
   "execution_count": 15,
   "id": "1c7797ba",
   "metadata": {},
   "outputs": [],
   "source": [
    "\n",
    "# Vector Database\n",
    "\n",
    "# Let's set up our vector database to hold all our documents and their embeddings!\n",
    "\n",
    "# While this is all baked into 1 call - we can look at some of the code that powers this process to get a better understanding:\n",
    "\n",
    "# Let's look at our VectorDatabase().__init__():\n",
    "\n",
    "# def __init__(self, embedding_model: EmbeddingModel = None):\n",
    "#         self.vectors = defaultdict(np.array)\n",
    "#         self.embedding_model = embedding_model or EmbeddingModel()\n",
    "\n",
    "# As you can see - our vectors are merely stored as a dictionary of np.array objects.\n",
    "\n",
    "# Secondly, our VectorDatabase() has a default EmbeddingModel() which is a wrapper for OpenAI's text-embedding-3-small model.\n",
    "\n",
    "#     Quick Info About text-embedding-3-small:\n",
    "\n",
    "#         It has a context window of 8191 tokens\n",
    "#         It returns vectors with dimension 1536\n",
    "\n"
   ]
  },
  {
   "cell_type": "code",
   "execution_count": 16,
   "id": "e3d71e7a",
   "metadata": {},
   "outputs": [],
   "source": [
    "\n",
    "\n",
    "# We can call the async_get_embeddings method of our EmbeddingModel() on a list of str and receive a list of float back!\n",
    "\n",
    "# async def async_get_embeddings(self, list_of_text: List[str]) -> List[List[float]]:\n",
    "#         return await aget_embeddings(\n",
    "#             list_of_text=list_of_text, engine=self.embeddings_model_name\n",
    "#         )\n",
    "\n",
    "# We cast those to np.array when we build our VectorDatabase():\n",
    "\n",
    "# async def abuild_from_list(self, list_of_text: List[str]) -> \"VectorDatabase\":\n",
    "#         embeddings = await self.embedding_model.async_get_embeddings(list_of_text)\n",
    "#         for text, embedding in zip(list_of_text, embeddings):\n",
    "#             self.insert(text, np.array(embedding))\n",
    "#         return self\n",
    "\n",
    "# And that's all we need to do!\n"
   ]
  },
  {
   "cell_type": "code",
   "execution_count": 17,
   "id": "609036ac",
   "metadata": {},
   "outputs": [],
   "source": [
    "vector_db = VectorDatabase()\n",
    "vector_db = asyncio.run(vector_db.abuild_from_list(split_documents))"
   ]
  },
  {
   "cell_type": "code",
   "execution_count": 18,
   "id": "74591c59",
   "metadata": {},
   "outputs": [],
   "source": [
    "\n",
    "\n",
    "# So, to review what we've done so far in natural language:\n",
    "\n",
    "#     We load source documents\n",
    "#     We split those source documents into smaller chunks (documents)\n",
    "#     We send each of those documents to the text-embedding-3-small OpenAI API endpoint\n",
    "#     We store each of the text representations with the vector representations as keys/values in a dictionary\n",
    "\n",
    "# Semantic Similarity\n",
    "\n",
    "# The next step is to be able to query our VectorDatabase() with a str and have it return to us vectors and text that is most relevant from our corpus.\n",
    "\n",
    "# We're going to use the following process to achieve this in our toy example:\n",
    "\n",
    "#     We need to embed our query with the same EmbeddingModel() as we used to construct our VectorDatabase()\n",
    "#     We loop through every vector in our VectorDatabase() and use a distance measure to compare how related they are\n",
    "#     We return a list of the top k closest vectors, with their text representations\n",
    "\n",
    "# There's some very heavy optimization that can be done at each of these steps - but let's just focus on the basic pattern in this notebook.\n",
    "\n",
    "#     We are using cosine similarity as a distance metric in this example - but there are many many distance metrics you could use - like these\n",
    "\n",
    "#     We are using a rather inefficient way of calculating relative distance between the query vector and all other vectors - there are more advanced approaches that are much more efficient, like ANN\n",
    "\n"
   ]
  },
  {
   "cell_type": "code",
   "execution_count": 19,
   "id": "257e0790",
   "metadata": {},
   "outputs": [
    {
     "data": {
      "text/plain": [
       "[(\"ent the candle, and we were left darkling.\\n  Lear. Are you our daughter?\\n  Gon. Come, sir,\\n     I would you would make use of that good wisdom\\n     Whereof I know you are fraught, and put away\\n     These dispositions that of late transform you\\n     From what you rightly are.\\n  Fool. May not an ass know when the cart draws the horse?\\n     Whoop, Jug, I love thee!\\n  Lear. Doth any here know me? This is not Lear.\\n     Doth Lear walk thus? speak thus? Where are his eyes?\\n     Either his notion weakens, his discernings \\n     Are lethargied- Ha! waking? 'Tis not so!\\n     Who is it that can tell me who I am?\\n  Fool. Lear's shadow.\\n  Lear. I would learn that; for, by the marks of sovereignty,\\n     Knowledge, and reason, I should be false persuaded\\n     I had daughters.\\n  Fool. Which they will make an obedient father.\\n  Lear. Your name, fair gentlewoman?\\n  Gon. This admiration, sir, is much o' th' savour\\n     Of other your new pranks. I do beseech you\\n     To understand my purposes aright.\\n    \",\n",
       "  np.float64(0.6070126365914271)),\n",
       " (\"ere was good sport at his making, and the\\n     whoreson must be acknowledged.- Do you know this noble\\ngentleman,\\n     Edmund?\\n  Edm. [comes forward] No, my lord.\\n  Glou. My Lord of Kent. Remember him hereafter as my honourable\\n     friend.\\n  Edm. My services to your lordship.\\n  Kent. I must love you, and sue to know you better.\\n  Edm. Sir, I shall study deserving.\\n  Glou. He hath been out nine years, and away he shall again.\\n                                                 Sound a sennet.\\n     The King is coming.\\n\\n      Enter one bearing a coronet; then Lear; then the Dukes of\\n      Albany and Cornwall; next, Goneril, Regan, Cordelia, with\\n                              Followers.\\n\\n  Lear. Attend the lords of France and Burgundy, Gloucester.\\n  Glou. I shall, my liege.\\n                                 Exeunt [Gloucester and Edmund].\\n  Lear. Meantime we shall express our darker purpose.\\n     Give me the map there. Know we have divided \\n     In three our kingdom; and 'tis our fast intent\\n \",\n",
       "  np.float64(0.6037529507690217)),\n",
       " (\"d. Then away she started\\n     To deal with grief alone.\\n  Kent. It is the stars,\\n     The stars above us, govern our conditions;\\n     Else one self mate and mate could not beget \\n     Such different issues. You spoke not with her since?\\n  Gent. No.\\n  Kent. Was this before the King return'd?\\n  Gent. No, since.\\n  Kent. Well, sir, the poor distressed Lear's i' th' town;\\n     Who sometime, in his better tune, remembers\\n     What we are come about, and by no means\\n     Will yield to see his daughter.\\n  Gent. Why, good sir?\\n  Kent. A sovereign shame so elbows him; his own unkindness,\\n     That stripp'd her from his benediction, turn'd her\\n     To foreign casualties, gave her dear rights\\n     To his dog-hearted daughters- these things sting\\n     His mind so venomously that burning shame\\n     Detains him from Cordelia.\\n  Gent. Alack, poor gentleman!\\n  Kent. Of Albany's and Cornwall's powers you heard not?\\n  Gent. 'Tis so; they are afoot.\\n  Kent. Well, sir, I'll bring you to our master Lear\\n   \",\n",
       "  np.float64(0.5981310146944675))]"
      ]
     },
     "execution_count": 19,
     "metadata": {},
     "output_type": "execute_result"
    }
   ],
   "source": [
    "vector_db.search_by_text(\"Who are the main characters in King Lear story?\", k=3)"
   ]
  },
  {
   "cell_type": "code",
   "execution_count": 20,
   "id": "17a9e1de",
   "metadata": {},
   "outputs": [],
   "source": [
    "\n",
    "# Task 4: Prompts\n",
    "\n",
    "# In the following section, we'll be looking at the role of prompts - and how they help us to guide our application in the right direction.\n",
    "\n",
    "# In this notebook, we're going to rely on the idea of \"zero-shot in-context learning\".\n",
    "\n",
    "# This is a lot of words to say: \"We will ask it to perform our desired task in the prompt, and provide no examples.\"\n",
    "# XYZRolePrompt\n",
    "\n",
    "# Before we do that, let's stop and think a bit about how OpenAI's chat models work.\n",
    "\n",
    "# We know they have roles - as is indicated in the following API documentation\n",
    "\n",
    "# There are three roles, and they function as follows (taken directly from OpenAI):\n",
    "\n",
    "#     {\"role\" : \"system\"} : The system message helps set the behavior of the assistant. For example, you can modify the personality of the assistant or provide specific instructions about how it should behave throughout the conversation. However note that the system message is optional and the model’s behavior without a system message is likely to be similar to using a generic message such as \"You are a helpful assistant.\"\n",
    "#     {\"role\" : \"user\"} : The user messages provide requests or comments for the assistant to respond to.\n",
    "#     {\"role\" : \"assistant\"} : Assistant messages store previous assistant responses, but can also be written by you to give examples of desired behavior.\n",
    "\n",
    "# The main idea is this:\n",
    "\n",
    "#     You start with a system message that outlines how the LLM should respond, what kind of behaviours you can expect from it, and more\n",
    "#     Then, you can provide a few examples in the form of \"assistant\"/\"user\" pairs\n",
    "#     Then, you prompt the model with the true \"user\" message.\n",
    "\n",
    "# In this example, we'll be forgoing the 2nd step for simplicities sake.\n"
   ]
  },
  {
   "cell_type": "code",
   "execution_count": 21,
   "id": "fcbdcb34-2e1a-4ea9-a010-c0505fa22181",
   "metadata": {},
   "outputs": [],
   "source": [
    "\n",
    "# XYZRolePrompt\n",
    "\n",
    "# Here we have our system, user, and assistant role prompts.\n",
    "\n",
    "# Let's take a peek at what they look like:\n",
    "\n",
    "# class BasePrompt:\n",
    "#     def __init__(self, prompt):\n",
    "#         \"\"\"\n",
    "#         Initializes the BasePrompt object with a prompt template.\n",
    "\n",
    "#         :param prompt: A string that can contain placeholders within curly braces\n",
    "#         \"\"\"\n",
    "#         self.prompt = prompt\n",
    "#         self._pattern = re.compile(r\"\\{([^}]+)\\}\")\n",
    "\n",
    "#     def format_prompt(self, **kwargs):\n",
    "#         \"\"\"\n",
    "#         Formats the prompt string using the keyword arguments provided.\n",
    "\n",
    "#         :param kwargs: The values to substitute into the prompt string\n",
    "#         :return: The formatted prompt string\n",
    "#         \"\"\"\n",
    "#         matches = self._pattern.findall(self.prompt)\n",
    "#         return self.prompt.format(**{match: kwargs.get(match, \"\") for match in matches})\n",
    "\n",
    "#     def get_input_variables(self):\n",
    "#         \"\"\"\n",
    "#         Gets the list of input variable names from the prompt string.\n",
    "\n",
    "#         :return: List of input variable names\n",
    "#         \"\"\"\n",
    "#         return self._pattern.findall(self.prompt)\n",
    "\n",
    "# Then we have our RolePrompt which laser focuses us on the role pattern found in most API endpoints for LLMs.\n",
    "\n",
    "# class RolePrompt(BasePrompt):\n",
    "#     def __init__(self, prompt, role: str):\n",
    "#         \"\"\"\n",
    "#         Initializes the RolePrompt object with a prompt template and a role.\n",
    "\n",
    "#         :param prompt: A string that can contain placeholders within curly braces\n",
    "#         :param role: The role for the message ('system', 'user', or 'assistant')\n",
    "#         \"\"\"\n",
    "#         super().__init__(prompt)\n",
    "#         self.role = role\n",
    "\n",
    "#     def create_message(self, **kwargs):\n",
    "#         \"\"\"\n",
    "#         Creates a message dictionary with a role and a formatted message.\n",
    "\n",
    "#         :param kwargs: The values to substitute into the prompt string\n",
    "#         :return: Dictionary containing the role and the formatted message\n",
    "#         \"\"\"\n",
    "#         return {\"role\": self.role, \"content\": self.format_prompt(**kwargs)}\n",
    "\n",
    "# We'll look at how the SystemRolePrompt is constructed to get a better idea of how that extension works:\n",
    "\n",
    "# class SystemRolePrompt(RolePrompt):\n",
    "#     def __init__(self, prompt: str):\n",
    "#         super().__init__(prompt, \"system\")\n",
    "\n",
    "# That pattern is repeated for our UserRolePrompt and our AssistantRolePrompt as well.\n",
    "# ChatOpenAI\n",
    "\n",
    "# Next we have our model, which is converted to a format analagous to libraries like LangChain and LlamaIndex.\n",
    "\n",
    "# Let's take a peek at how that is constructed:\n",
    "\n",
    "# class ChatOpenAI:\n",
    "#     def __init__(self, model_name: str = \"gpt-4o-mini\"):\n",
    "#         self.model_name = model_name\n",
    "#         self.openai_api_key = os.getenv(\"OPENAI_API_KEY\")\n",
    "#         if self.openai_api_key is None:\n",
    "#             raise ValueError(\"OPENAI_API_KEY is not set\")\n",
    "\n",
    "#     def run(self, messages, text_only: bool = True):\n",
    "#         if not isinstance(messages, list):\n",
    "#             raise ValueError(\"messages must be a list\")\n",
    "\n",
    "#         openai.api_key = self.openai_api_key\n",
    "#         response = openai.ChatCompletion.create(\n",
    "#             model=self.model_name, messages=messages\n",
    "#         )\n",
    "\n",
    "#         if text_only:\n",
    "#             return response.choices[0].message.content\n",
    "\n",
    "#         return response\n",
    "\n"
   ]
  },
  {
   "cell_type": "code",
   "execution_count": 22,
   "id": "3164f7e0-5d19-43eb-beb2-23d37aee5631",
   "metadata": {},
   "outputs": [],
   "source": [
    "# from openai_utils.prompts import (\n",
    "#     UserRolePrompt,\n",
    "#     SystemRolePrompt,\n",
    "#     AssistantRolePrompt,\n",
    "# )\n",
    "# from openai_utils.chatmodel import ChatOpenAI\n",
    "\n",
    "# chat_openai = ChatOpenAI()\n",
    "# user_prompt_template = \"{content}\"\n",
    "# user_role_prompt = UserRolePrompt(user_prompt_template)\n",
    "# system_prompt_template = (\n",
    "#     \"You are an expert in {expertise}, you always answer in a kind way.\"\n",
    "# )\n",
    "# system_role_prompt = SystemRolePrompt(system_prompt_template)\n",
    "\n",
    "# messages = [\n",
    "#     system_role_prompt.create_message(expertise=\"Python\"),\n",
    "#     user_role_prompt.create_message(\n",
    "#         content=\"What is the best way to write a loop?\"\n",
    "#     ),\n",
    "# ]\n",
    "\n",
    "# response = chat_openai.run(messages)\n"
   ]
  },
  {
   "cell_type": "code",
   "execution_count": 24,
   "id": "f4f02422-37c3-4b9b-8ff2-be29414056ed",
   "metadata": {},
   "outputs": [],
   "source": [
    "\n",
    "# Task 5: Retrieval Augmented Generation\n",
    "\n",
    "# Now we can create a RAG prompt - which will help our system behave in a way that makes sense!\n",
    "\n",
    "# There is much you could do here, many tweaks and improvements to be made!\n"
   ]
  },
  {
   "cell_type": "code",
   "execution_count": 25,
   "id": "63c10cf3-0600-47ea-a5d6-1ab2d5e540be",
   "metadata": {},
   "outputs": [],
   "source": [
    "RAG_PROMPT_TEMPLATE = \"\"\" \\\n",
    "Use the provided context to answer the user's query.\n",
    "\n",
    "You may not answer the user's query unless there is specific context in the following text.\n",
    "\n",
    "If you do not know the answer, or cannot answer, please respond with \"I don't know\".\n",
    "\"\"\"\n",
    "\n",
    "rag_prompt = SystemRolePrompt(RAG_PROMPT_TEMPLATE)\n",
    "\n",
    "USER_PROMPT_TEMPLATE = \"\"\" \\\n",
    "Context:\n",
    "{context}\n",
    "\n",
    "User Query:\n",
    "{user_query}\n",
    "\"\"\"\n",
    "\n",
    "\n",
    "user_prompt = UserRolePrompt(USER_PROMPT_TEMPLATE)\n",
    "\n",
    "class RetrievalAugmentedQAPipeline:\n",
    "    def __init__(self, llm: ChatOpenAI(), vector_db_retriever: VectorDatabase) -> None:\n",
    "        self.llm = llm\n",
    "        self.vector_db_retriever = vector_db_retriever\n",
    "\n",
    "    def run_pipeline(self, user_query: str) -> str:\n",
    "        context_list = self.vector_db_retriever.search_by_text(user_query, k=4)\n",
    "\n",
    "        context_prompt = \"\"\n",
    "        for context in context_list:\n",
    "            context_prompt += context[0] + \"\\n\"\n",
    "\n",
    "        formatted_system_prompt = rag_prompt.create_message()\n",
    "\n",
    "        formatted_user_prompt = user_prompt.create_message(user_query=user_query, context=context_prompt)\n",
    "\n",
    "        return {\"response\" : self.llm.run([formatted_system_prompt, formatted_user_prompt]), \"context\" : context_list}\n"
   ]
  },
  {
   "cell_type": "code",
   "execution_count": 26,
   "id": "e071b17a-0432-4c3c-8dd5-fa7bf127d245",
   "metadata": {},
   "outputs": [],
   "source": [
    "retrieval_augmented_qa_pipeline = RetrievalAugmentedQAPipeline(\n",
    "    vector_db_retriever=vector_db,\n",
    "    llm=chat_openai\n",
    ")\n"
   ]
  },
  {
   "cell_type": "code",
   "execution_count": 27,
   "id": "8486b41b-41d8-4b41-a0e1-5ef66bad901d",
   "metadata": {},
   "outputs": [
    {
     "data": {
      "text/plain": [
       "{'response': \"I don't know.\",\n",
       " 'context': [(\"ere was good sport at his making, and the\\n     whoreson must be acknowledged.- Do you know this noble\\ngentleman,\\n     Edmund?\\n  Edm. [comes forward] No, my lord.\\n  Glou. My Lord of Kent. Remember him hereafter as my honourable\\n     friend.\\n  Edm. My services to your lordship.\\n  Kent. I must love you, and sue to know you better.\\n  Edm. Sir, I shall study deserving.\\n  Glou. He hath been out nine years, and away he shall again.\\n                                                 Sound a sennet.\\n     The King is coming.\\n\\n      Enter one bearing a coronet; then Lear; then the Dukes of\\n      Albany and Cornwall; next, Goneril, Regan, Cordelia, with\\n                              Followers.\\n\\n  Lear. Attend the lords of France and Burgundy, Gloucester.\\n  Glou. I shall, my liege.\\n                                 Exeunt [Gloucester and Edmund].\\n  Lear. Meantime we shall express our darker purpose.\\n     Give me the map there. Know we have divided \\n     In three our kingdom; and 'tis our fast intent\\n \",\n",
       "   np.float64(0.6089403757646772)),\n",
       "  (\"ent the candle, and we were left darkling.\\n  Lear. Are you our daughter?\\n  Gon. Come, sir,\\n     I would you would make use of that good wisdom\\n     Whereof I know you are fraught, and put away\\n     These dispositions that of late transform you\\n     From what you rightly are.\\n  Fool. May not an ass know when the cart draws the horse?\\n     Whoop, Jug, I love thee!\\n  Lear. Doth any here know me? This is not Lear.\\n     Doth Lear walk thus? speak thus? Where are his eyes?\\n     Either his notion weakens, his discernings \\n     Are lethargied- Ha! waking? 'Tis not so!\\n     Who is it that can tell me who I am?\\n  Fool. Lear's shadow.\\n  Lear. I would learn that; for, by the marks of sovereignty,\\n     Knowledge, and reason, I should be false persuaded\\n     I had daughters.\\n  Fool. Which they will make an obedient father.\\n  Lear. Your name, fair gentlewoman?\\n  Gon. This admiration, sir, is much o' th' savour\\n     Of other your new pranks. I do beseech you\\n     To understand my purposes aright.\\n    \",\n",
       "   np.float64(0.6078820532212686)),\n",
       "  (\"d. Then away she started\\n     To deal with grief alone.\\n  Kent. It is the stars,\\n     The stars above us, govern our conditions;\\n     Else one self mate and mate could not beget \\n     Such different issues. You spoke not with her since?\\n  Gent. No.\\n  Kent. Was this before the King return'd?\\n  Gent. No, since.\\n  Kent. Well, sir, the poor distressed Lear's i' th' town;\\n     Who sometime, in his better tune, remembers\\n     What we are come about, and by no means\\n     Will yield to see his daughter.\\n  Gent. Why, good sir?\\n  Kent. A sovereign shame so elbows him; his own unkindness,\\n     That stripp'd her from his benediction, turn'd her\\n     To foreign casualties, gave her dear rights\\n     To his dog-hearted daughters- these things sting\\n     His mind so venomously that burning shame\\n     Detains him from Cordelia.\\n  Gent. Alack, poor gentleman!\\n  Kent. Of Albany's and Cornwall's powers you heard not?\\n  Gent. 'Tis so; they are afoot.\\n  Kent. Well, sir, I'll bring you to our master Lear\\n   \",\n",
       "   np.float64(0.5952088575080073)),\n",
       "  (\"elves, and you.\\n  Lear. Darkness and devils!\\n     Saddle my horses! Call my train together!\\n     Degenerate bastard, I'll not trouble thee;\\n     Yet have I left a daughter.\\n  Gon. You strike my people, and your disorder'd rabble\\n     Make servants of their betters.\\n\\n                            Enter Albany.\\n\\n  Lear. Woe that too late repents!- O, sir, are you come?\\n     Is it your will? Speak, sir!- Prepare my horses.\\n     Ingratitude, thou marble-hearted fiend,\\n     More hideous when thou show'st thee in a child\\n     Than the sea-monster!\\n  Alb. Pray, sir, be patient.\\n  Lear. [to Goneril] Detested kite, thou liest! \\n     My train are men of choice and rarest parts,\\n     That all particulars of duty know\\n     And in the most exact regard support\\n     The worships of their name.- O most small fault,\\n     How ugly didst thou in Cordelia show!\\n     Which, like an engine, wrench'd my frame of nature\\n     From the fix'd place; drew from my heart all love\\n     And added to the gall. O Lear, \",\n",
       "   np.float64(0.5927088215656635))]}"
      ]
     },
     "execution_count": 27,
     "metadata": {},
     "output_type": "execute_result"
    }
   ],
   "source": [
    "retrieval_augmented_qa_pipeline.run_pipeline(\"Who are the main characters in King Lear story? \")\n"
   ]
  },
  {
   "cell_type": "code",
   "execution_count": 28,
   "id": "56d0635c-cabd-46fa-9c4d-c9dfa7a57118",
   "metadata": {},
   "outputs": [],
   "source": [
    "#Enhance your RAG application in some way - may be lets allow it to accept PDF files"
   ]
  },
  {
   "cell_type": "code",
   "execution_count": 30,
   "id": "b1e7434a-eadd-46e0-ad7c-757829e598fc",
   "metadata": {},
   "outputs": [],
   "source": [
    "# pip install PyPDF2"
   ]
  },
  {
   "cell_type": "code",
   "execution_count": null,
   "id": "d5f8a5cc-b671-4444-b7df-14e1638f683a",
   "metadata": {},
   "outputs": [],
   "source": [
    "import PyPDF2\n",
    "\n",
    "def extract_text_from_pdf(pdf_path):\n",
    "    with open(pdf_path, 'rb') as file:\n",
    "        reader = PyPDF2.PdfReader(file)\n",
    "        text = \"\"\n",
    "        for page_num in range(len(reader.pages)):\n",
    "            page = reader.pages[page_num]\n",
    "            text += page.extract_text()\n",
    "        return text\n",
    "\n",
    "pdf_file = \"data/\"\n",
    "extracted_text = extract_text_from_pdf(pdf_file)\n",
    "print(extracted_text)\n",
    "\n",
    "with open(\"data/\", 'w') as file:\n",
    "    file.write(extracted_text)\n"
   ]
  },
  {
   "cell_type": "code",
   "execution_count": null,
   "id": "02c171df-d45c-41a7-adcd-e8cecb0e449b",
   "metadata": {},
   "outputs": [],
   "source": [
    "text_loader = TextFileLoader(\"data/\")\n",
    "documents_pdf = text_loader.load_documents()\n",
    "len(documents_pdf)"
   ]
  },
  {
   "cell_type": "code",
   "execution_count": null,
   "id": "75464b25-54ae-4c60-9439-9c3f3da60b81",
   "metadata": {},
   "outputs": [],
   "source": [
    "text_splitter = CharacterTextSplitter()\n",
    "split_extracted_text = text_splitter.split_texts(documents_pdf)\n",
    "len(split_extracted_text)"
   ]
  },
  {
   "cell_type": "code",
   "execution_count": null,
   "id": "1068fb5c-4b5f-4670-8bc3-9f14534cec3b",
   "metadata": {},
   "outputs": [],
   "source": [
    "vector_db_pdf = VectorDatabase()\n",
    "vector_db_pdf = asyncio.run(vector_db.abuild_from_list(split_extracted_text))"
   ]
  },
  {
   "cell_type": "code",
   "execution_count": null,
   "id": "bee5fe7a-3569-42f5-bb18-1191184aa080",
   "metadata": {},
   "outputs": [],
   "source": [
    "vector_db_pdf.search_by_text(\"A deep reinforced model for abstractive summarization\", k=3)"
   ]
  },
  {
   "cell_type": "code",
   "execution_count": null,
   "id": "497d3b07-fed3-4ffc-b11f-bebf27898814",
   "metadata": {},
   "outputs": [],
   "source": [
    "RAG_PROMPT_TEMPLATE = \"\"\" \\\n",
    "Use the provided context to answer the user's query.\n",
    "\n",
    "You may not answer the user's query unless there is specific context in the following text.\n",
    "\n",
    "If you do not know the answer, or cannot answer, please respond with \"I don't know\".\n",
    "\"\"\"\n",
    "\n",
    "rag_prompt = SystemRolePrompt(RAG_PROMPT_TEMPLATE)\n",
    "\n",
    "USER_PROMPT_TEMPLATE = \"\"\" \\\n",
    "Context:\n",
    "{context}\n",
    "\n",
    "User Query:\n",
    "{user_query}\n",
    "\"\"\"\n",
    "\n",
    "user_prompt = UserRolePrompt(USER_PROMPT_TEMPLATE)\n",
    "\n",
    "class RetrievalAugmentedQAPipeline:\n",
    "    def __init__(self, llm: ChatOpenAI(), vector_db_retriever: VectorDatabase) -> None:\n",
    "        self.llm = llm\n",
    "        self.vector_db_retriever = vector_db_retriever\n",
    "\n",
    "    def run_pipeline(self, user_query: str) -> str:\n",
    "        context_list = self.vector_db_retriever.search_by_text(user_query, k=4)\n",
    "\n",
    "        context_prompt = \"\"\n",
    "        for context in context_list:\n",
    "            context_prompt += context[0] + \"\\n\"\n",
    "\n",
    "        formatted_system_prompt = rag_prompt.create_message()\n",
    "\n",
    "        formatted_user_prompt = user_prompt.create_message(user_query=user_query, context=context_prompt)\n",
    "\n",
    "        return {\"response\" : self.llm.run([formatted_system_prompt, formatted_user_prompt]), \"context\" : context_list}\n"
   ]
  },
  {
   "cell_type": "code",
   "execution_count": null,
   "id": "fceb7135-58df-45e3-9fea-e2c99a2f0093",
   "metadata": {},
   "outputs": [],
   "source": [
    "from aimakerspace.openai_utils.prompts import (UserRolePrompt, SystemRolePrompt, AssistantRolePrompt,)\n",
    "from aimakerspace.openai_utils.chatmodel import ChatOpenAI\n",
    "\n",
    "chat_openai = ChatOpenAI()\n",
    "\n",
    "retrieval_augmented_qa_pipeline = RetrievalAugmentedQAPipeline(vector_db_retriever=vector_db_pdf, llm=chat_openai)\n",
    "\n"
   ]
  },
  {
   "cell_type": "code",
   "execution_count": null,
   "id": "9710f29a-24f8-4e1f-b0a3-3abc88b42eb4",
   "metadata": {},
   "outputs": [],
   "source": [
    "from pprint import pprint\n",
    "\n",
    "questions = []\n",
    "questions.append(\"Does a 'deep reinforced model for abstractive summarization' appear in the document?\")\n",
    "questions.append(\"Is Richard Socher one of the authors?\")\n",
    "questions.append(\"What is an encoder and decoder stack?\")\n",
    "questions.append(\"Does a 'deep reinforced model for abstractive summarization' appear in the document?\")\n",
    "\n",
    "for question in questions:\n",
    "    print(retrieval_augmented_qa_pipeline.run_pipeline(question))\n",
    "    #pprint(retrieval_augmented_qa_pipeline.run_pipeline(question))\n",
    "\n"
   ]
  },
  {
   "cell_type": "code",
   "execution_count": null,
   "id": "52cb935b-8eab-4e8f-be5c-28aec695366b",
   "metadata": {},
   "outputs": [],
   "source": []
  }
 ],
 "metadata": {
  "kernelspec": {
   "display_name": "llm-gpt",
   "language": "python",
   "name": "llm"
  },
  "language_info": {
   "codemirror_mode": {
    "name": "ipython",
    "version": 3
   },
   "file_extension": ".py",
   "mimetype": "text/x-python",
   "name": "python",
   "nbconvert_exporter": "python",
   "pygments_lexer": "ipython3",
   "version": "3.9.17"
  }
 },
 "nbformat": 4,
 "nbformat_minor": 5
}
