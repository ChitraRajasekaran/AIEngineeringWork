{
 "cells": [
  {
   "cell_type": "code",
   "execution_count": 2,
   "id": "8d18c798-55f7-4f60-92fc-30837d71524c",
   "metadata": {},
   "outputs": [],
   "source": [
    "from utils.text_utils import TextFileLoader, CharacterTextSplitter"
   ]
  },
  {
   "cell_type": "code",
   "execution_count": null,
   "id": "f99c141b-41f0-450c-8198-170e0038cc4b",
   "metadata": {},
   "outputs": [],
   "source": []
  }
 ],
 "metadata": {
  "kernelspec": {
   "display_name": "llm-gpt",
   "language": "python",
   "name": "llm"
  },
  "language_info": {
   "codemirror_mode": {
    "name": "ipython",
    "version": 3
   },
   "file_extension": ".py",
   "mimetype": "text/x-python",
   "name": "python",
   "nbconvert_exporter": "python",
   "pygments_lexer": "ipython3",
   "version": "3.9.17"
  }
 },
 "nbformat": 4,
 "nbformat_minor": 5
}
